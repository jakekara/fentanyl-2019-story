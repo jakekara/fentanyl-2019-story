{
 "cells": [
  {
   "cell_type": "code",
   "execution_count": 1,
   "metadata": {},
   "outputs": [],
   "source": [
    "import pandas as pd"
   ]
  },
  {
   "cell_type": "code",
   "execution_count": 4,
   "metadata": {},
   "outputs": [],
   "source": [
    "OD = pd.read_csv(\"./data/Accidental_Drug_Related_Deaths_2012-2018.csv\")"
   ]
  },
  {
   "cell_type": "code",
   "execution_count": 24,
   "metadata": {},
   "outputs": [
    {
     "data": {
      "text/plain": [
       "490"
      ]
     },
     "execution_count": 24,
     "metadata": {},
     "output_type": "execute_result"
    }
   ],
   "source": [
    "def max_id(yr,df=OD):\n",
    "    ret = df.copy()\n",
    "    ret = ret[ret[\"ID\"].apply(lambda x: x.startswith(\"%d-\" % yr))]\n",
    "    id_ints = ret[\"ID\"].apply(lambda x: int(x[3:]))\n",
    "    ret[\"ID_INTS\"] = id_ints\n",
    "    count = len(ret)\n",
    "    ret = id_ints.max()\n",
    "    assert(count == ret)\n",
    "    return ret\n",
    "\n",
    "max_id(13)"
   ]
  },
  {
   "cell_type": "code",
   "execution_count": 26,
   "metadata": {},
   "outputs": [
    {
     "name": "stdout",
     "output_type": "stream",
     "text": [
      "2012: 355\n",
      "2013: 490\n",
      "2014: 558\n",
      "2015: 729\n",
      "2016: 917\n",
      "2017: 1038\n",
      "2018: 1018\n"
     ]
    }
   ],
   "source": [
    "for y in range(12, 19):\n",
    "    print (\"20%d: %d\" % (y, max_id(y)))"
   ]
  },
  {
   "cell_type": "code",
   "execution_count": null,
   "metadata": {},
   "outputs": [],
   "source": []
  },
  {
   "cell_type": "code",
   "execution_count": null,
   "metadata": {},
   "outputs": [],
   "source": []
  }
 ],
 "metadata": {
  "kernelspec": {
   "display_name": "Python 3",
   "language": "python",
   "name": "python3"
  },
  "language_info": {
   "codemirror_mode": {
    "name": "ipython",
    "version": 3
   },
   "file_extension": ".py",
   "mimetype": "text/x-python",
   "name": "python",
   "nbconvert_exporter": "python",
   "pygments_lexer": "ipython3",
   "version": "3.7.2"
  }
 },
 "nbformat": 4,
 "nbformat_minor": 2
}
